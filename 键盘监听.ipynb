{
 "cells": [
  {
   "cell_type": "code",
   "execution_count": 181,
   "outputs": [
    {
     "name": "stdout",
     "output_type": "stream",
     "text": [
      "我拍了,比卫龙好吃多了，不喜欢吃甜辣\n",
      "拍了,比卫龙好吃多了，不喜欢吃甜辣\n",
      "冲冲冲\n",
      "已拍,2号,学校有卖，比这贵,上学吃过\n",
      "加加急,下课就买这个\n",
      "上学就吃这个\n",
      "现在就发\n",
      "加加急,中学就吃这个\n",
      "马上发\n",
      "冲了,中学就吃这个\n",
      "臭干子yyds\n",
      "同学经常给我吃\n",
      "现在就发,良心商家\n",
      "刚拍了,快点发,上学吃过\n",
      "下课就买这个\n",
      "上学吃过\n",
      "日期新鲜吗？,姐妹们，不要犹豫，冲冲冲\n",
      "我拍了\n",
      "等着吃\n",
      "上午发,小时候经常吃\n",
      "已拍\n",
      "快点发货\n",
      "买了\n",
      "要了\n",
      "3号,哈哈\n",
      "日期新鲜吗？,姐妹们，不要犹豫，冲冲冲\n",
      "冲了,小时候的味道\n",
      "小时候的味道\n",
      "发快点,冲冲冲\n",
      "买了,姐妹们，不要犹豫，冲冲冲\n",
      "啊啊,中学就吃这个\n",
      "姐妹们，不要犹豫，冲冲冲\n",
      "要了,上学就吃这个\n",
      "同学经常给我吃\n",
      "今天发货哦,小时候经常吃\n",
      "就爱吃飞旺\n",
      "臭干子yyds\n",
      "冲了,姐妹们，不要犹豫，冲冲冲\n",
      "刚拍了,1号,今天发货哦,下课就买这个\n",
      "拍了,哈哈,姐妹们，不要犹豫，冲冲冲\n",
      "拍了,发快点,上学就吃这个\n",
      "等着吃\n",
      "拍了,2号,马上发,良心商家\n",
      "快点哦,上学吃过\n",
      "中学就吃这个\n",
      "4种辣条礼包,快点哦\n",
      "拍了,上学吃过\n",
      "快点发货,小时候的味道\n",
      "拍了,上学就吃这个\n",
      "冲了,嘻嘻,比卫龙好吃多了，不喜欢吃甜辣\n",
      "刚买了,4种辣条礼包,学校有卖，比这贵,中学就吃这个\n",
      "良心商家\n",
      "快点发\n",
      "冲了,从小到大都吃\n",
      "香香辣辣的\n",
      "2号,马上发\n",
      "要了,3号,想吃,中学就吃这个\n",
      "我拍了,1号,香香辣辣的,中学就吃这个\n",
      "3号,想吃\n",
      "拍了\n",
      "马上发\n",
      "4种辣条礼包,加急\n",
      "刚拍了\n",
      "买了,臭干子yyds\n",
      "加加急\n",
      "冲了,3号,加加急,良心商家\n",
      "香香辣辣的\n",
      "4种辣条礼包,啊啊\n",
      "拍了,1号,嘻嘻,臭干子yyds\n",
      "冲了,臭干子,就爱吃飞旺,下课就买这个\n",
      "冲了,臭干子,快点哦,上学吃过\n",
      "拍了\n",
      "冲了,啊啊,良心商家\n",
      "小时候经常吃\n",
      "买了,2号,啊啊,小时候的味道\n",
      "下单了,臭干子yyds\n",
      "刚拍了,等着吃,这价格，良心商家\n",
      "2号,啊啊\n",
      "想吃\n",
      "刚买了,下课就买这个\n",
      "这价格，良心商家\n",
      "刚买了\n",
      "我拍了,1号,发快点,从小到大都吃\n",
      "要了\n",
      "下单了,比卫龙好吃多了，不喜欢吃甜辣\n",
      "马上发,下课就买这个\n",
      "拍了,中学就吃这个\n",
      "快点哦\n",
      "拍了,快点哦,姐妹们，不要犹豫，冲冲冲\n",
      "臭干子,加加急\n",
      "刚拍了,3号,学校有卖，比这贵,上学吃过\n",
      "想吃,小时候的味道\n",
      "快点发货\n",
      "臭干子yyds\n",
      "我拍了,快点发,小时候的味道\n",
      "等着吃\n",
      "我拍了,臭干子,想吃,臭干子yyds\n",
      "刚买了,4种辣条礼包,马上发,冲冲冲\n",
      "加加急,小时候的味道\n",
      "3号,想吃\n"
     ]
    }
   ],
   "source": [
    "import random\n",
    "\n",
    "def get_position(pic_path, confidence=1):\n",
    "    \"\"\"\n",
    "    pic_path: 图片路径\n",
    "    confidence: 模糊查找 0-1\n",
    "    返回 x, y 坐标列表\n",
    "    \"\"\"\n",
    "    aa = pya.locateAllOnScreen(pic_path, confidence=confidence)\n",
    "    xy_list = [pya.center(i) for i in aa]\n",
    "    return xy_list\n",
    "\n",
    "def random_msg():\n",
    "    l1 = ['已拍','拍了','买了','我拍了','刚拍了','刚买了','冲了','要了','下单了']\n",
    "    l2 = ['1号','2号','3号','臭干子','八宝丝','4种辣条礼包']\n",
    "    l3 = ['加急','快点发货','加加急','今天发货哦','快点发','日期新鲜吗？','想吃','加加急','上午发','快点哦','哈哈','嘻嘻','发快点','等着吃','啊啊','同学经常给我吃','学校有卖，比这贵','就爱吃飞旺','现在就发','马上发','香香辣辣的']\n",
    "    l4 = ['小时候经常吃','上学吃过','小时候的味道','臭干子yyds','从小到大都吃','比卫龙好吃多了，不喜欢吃甜辣','冲冲冲','姐妹们，不要犹豫，冲冲冲','这价格，良心商家','上学就吃这个','良心商家','中学就吃这个','下课就买这个']\n",
    "    s1 = random.choice(l1) + ','+random.choice(l2) + ',' + random.choice(l3) + ',' + random.choice(l4)\n",
    "    s2 = random.choice(l1) + ',' + random.choice(l3) + ',' + random.choice(l4)\n",
    "    s3 = random.choice(l1)\n",
    "    s4 = random.choice(l3)\n",
    "    s5 = random.choice(l4)\n",
    "    s6 = random.choice(l2) + ',' + random.choice(l3)\n",
    "    s7 = random.choice(l3) + ',' + random.choice(l4)\n",
    "    s8 = random.choice(l1) + ',' + random.choice(l4)\n",
    "    res = random.choice([s1,s2,s3,s4,s5,s6,s7,s8])\n",
    "    return res\n",
    "\n",
    "for i in range(100):\n",
    "    print(random_msg())"
   ],
   "metadata": {
    "collapsed": false,
    "pycharm": {
     "name": "#%%\n"
    }
   }
  },
  {
   "cell_type": "code",
   "execution_count": 2,
   "metadata": {},
   "outputs": [],
   "source": [
    "#键盘输入\n",
    "import time\n",
    "from pynput.keyboard import Key,Controller,Listener\n",
    "keyboard = Controller()\n",
    "time.sleep(3)\n",
    "keyboard.press(\"a\") #按下a\n",
    "keyboard.release(\"a\") #松开a\n",
    "keyboard.press(\"A\") #按下A\n",
    "keyboard.release(\"A\") #松开A\n",
    "with keyboard.pressed(Key.shift): #按下shift\n",
    "    keyboard.press(\"a\") #shift + a\n",
    "keyboard.type(\"Hello World\") #输出文字A"
   ]
  },
  {
   "cell_type": "code",
   "execution_count": null,
   "outputs": [],
   "source": [],
   "metadata": {
    "collapsed": false,
    "pycharm": {
     "name": "#%%\n"
    }
   }
  },
  {
   "cell_type": "code",
   "execution_count": 4,
   "metadata": {},
   "outputs": [
    {
     "name": "stdout",
     "output_type": "stream",
     "text": [
      "you release Enter\n",
      "you press Enter\n",
      "you release Enter\n",
      "you press Enter\n",
      "you release Enter\n"
     ]
    },
    {
     "ename": "TypeError",
     "evalue": "stop() missing 1 required positional argument: 'self'",
     "output_type": "error",
     "traceback": [
      "\u001B[1;31m---------------------------------------------------------------------------\u001B[0m",
      "\u001B[1;31mTypeError\u001B[0m                                 Traceback (most recent call last)",
      "Input \u001B[1;32mIn [4]\u001B[0m, in \u001B[0;36m<cell line: 18>\u001B[1;34m()\u001B[0m\n\u001B[0;32m     16\u001B[0m     listener\u001B[38;5;241m.\u001B[39mjoin()\n\u001B[0;32m     17\u001B[0m \u001B[38;5;66;03m#停止监视\u001B[39;00m\n\u001B[1;32m---> 18\u001B[0m \u001B[43mListener\u001B[49m\u001B[38;5;241;43m.\u001B[39;49m\u001B[43mstop\u001B[49m\u001B[43m(\u001B[49m\u001B[43m)\u001B[49m\n",
      "\u001B[1;31mTypeError\u001B[0m: stop() missing 1 required positional argument: 'self'"
     ]
    }
   ],
   "source": [
    "# 键盘监听\n",
    "from pynput.keyboard import Key,Listener\n",
    "def on_press(key):\n",
    "    if key == Key.enter:\n",
    "        print('you press Enter')\n",
    "\n",
    "    else:\n",
    "        return False #按键不是enter,停止监视\n",
    "\n",
    "def on_release(key):\n",
    "    if key == Key.enter:\n",
    "        print('you release Enter')\n",
    "\n",
    "#监听键盘按键\n",
    "with Listener(on_press=on_press,on_release=on_release) as listener:\n",
    "    listener.join()\n",
    "#停止监视\n",
    "Listener.stop()"
   ]
  },
  {
   "cell_type": "code",
   "execution_count": null,
   "metadata": {
    "pycharm": {
     "is_executing": true
    }
   },
   "outputs": [
    {
     "name": "stdout",
     "output_type": "stream",
     "text": [
      "<ctrl>+<alt>+h pressed\n",
      "<ctrl>+<alt>+h pressed\n",
      "<ctrl>+<alt>+i pressed\n",
      "<ctrl>+<alt>+h pressed\n",
      "<ctrl>+<alt>+i pressed\n",
      "<ctrl>+<alt>+h pressed\n",
      "<ctrl>+<alt>+h pressed\n",
      "<ctrl>+<alt>+i pressed\n",
      "<ctrl>+<alt>+h pressed\n",
      "<ctrl>+<alt>+i pressed\n",
      "<ctrl>+<alt>+i pressed\n",
      "<ctrl>+<alt>+h pressed\n",
      "<ctrl>+<alt>+i pressed\n",
      "<ctrl>+<alt>+h pressed\n",
      "<ctrl>+<alt>+i pressed\n",
      "<ctrl>+<alt>+h pressed\n",
      "<ctrl>+<alt>+i pressed\n",
      "<ctrl>+<alt>+h pressed\n",
      "<ctrl>+<alt>+h pressed\n",
      "<ctrl>+<alt>+i pressed\n",
      "<ctrl>+<alt>+i pressed\n",
      "<ctrl>+<alt>+h pressed\n",
      "<ctrl>+<alt>+h pressed\n",
      "<ctrl>+<alt>+i pressed\n",
      "<ctrl>+<alt>+h pressed\n",
      "<ctrl>+<alt>+i pressed\n",
      "<ctrl>+<alt>+h pressed\n"
     ]
    }
   ],
   "source": [
    "from pynput import keyboard\n",
    "import time,threading\n",
    "import pyautogui as pya\n",
    "import random\n",
    "\n",
    "is_stop = False\n",
    "\n",
    "def move():\n",
    "    for i in range(100):\n",
    "        x = random.randint(1,500)\n",
    "        y = random.randint(1,500)\n",
    "        if is_stop is not True:\n",
    "            pya.moveTo(x, y)\n",
    "            print(i,end='',flush=True)\n",
    "        else:\n",
    "            print('结束了',i)\n",
    "            continue\n",
    "        time.sleep(1)\n",
    "\n",
    "def on_activate_h():\n",
    "    print('<ctrl>+<alt>+h pressed')\n",
    "    global is_stop\n",
    "    is_stop = False\n",
    "\n",
    "def on_activate_i():\n",
    "    print('<ctrl>+<alt>+i pressed')\n",
    "    global is_stop\n",
    "    is_stop = True\n",
    "\n",
    "def esc():\n",
    "    print('<esc> pressed')\n",
    "    return False\n",
    "\n",
    "def esc_shift():\n",
    "    print('<esc>+<shift> pressed')\n",
    "    raise Exception\n",
    "def cat():\n",
    "    with keyboard.GlobalHotKeys({\n",
    "            '<ctrl>+<alt>+h': on_activate_h,\n",
    "            '<ctrl>+<alt>+i': on_activate_i,\n",
    "            '<esc>':          esc,\n",
    "            '<esc>+<shift>':  esc_shift}) as h:\n",
    "        h.join()\n",
    "\n",
    "t1 = threading.Thread(target=cat)\n",
    "t2 = threading.Thread(target=move)\n",
    "t1.start()\n",
    "t2.start()\n",
    "t1.join()\n",
    "t2.join()\n"
   ]
  },
  {
   "cell_type": "code",
   "execution_count": 45,
   "metadata": {},
   "outputs": [
    {
     "name": "stdout",
     "output_type": "stream",
     "text": [
      "1\n",
      "True\n",
      "[]\n"
     ]
    },
    {
     "ename": "NoSectionError",
     "evalue": "No section: 'test'",
     "output_type": "error",
     "traceback": [
      "\u001B[1;31m---------------------------------------------------------------------------\u001B[0m",
      "\u001B[1;31mNoSectionError\u001B[0m                            Traceback (most recent call last)",
      "Input \u001B[1;32mIn [45]\u001B[0m, in \u001B[0;36m<cell line: 7>\u001B[1;34m()\u001B[0m\n\u001B[0;32m      5\u001B[0m \u001B[38;5;28mprint\u001B[39m(conf[\u001B[38;5;124m'\u001B[39m\u001B[38;5;124mDEFAULT\u001B[39m\u001B[38;5;124m'\u001B[39m]\u001B[38;5;241m.\u001B[39mgetboolean(\u001B[38;5;124m'\u001B[39m\u001B[38;5;124mmsg\u001B[39m\u001B[38;5;124m'\u001B[39m))\n\u001B[0;32m      6\u001B[0m \u001B[38;5;28mprint\u001B[39m(conf\u001B[38;5;241m.\u001B[39msections())\n\u001B[1;32m----> 7\u001B[0m \u001B[38;5;28mprint\u001B[39m(\u001B[43mconf\u001B[49m\u001B[38;5;241;43m.\u001B[39;49m\u001B[43mget\u001B[49m\u001B[43m(\u001B[49m\u001B[38;5;124;43m'\u001B[39;49m\u001B[38;5;124;43mtest\u001B[39;49m\u001B[38;5;124;43m'\u001B[39;49m\u001B[43m,\u001B[49m\u001B[38;5;124;43m'\u001B[39;49m\u001B[38;5;124;43mmsg1\u001B[39;49m\u001B[38;5;124;43m'\u001B[39;49m\u001B[43m)\u001B[49m)  \u001B[38;5;66;03m# DEFAULT里的共用，可在别的节点直接查询\u001B[39;00m\n\u001B[0;32m      9\u001B[0m \u001B[38;5;28;01mfor\u001B[39;00m key, value \u001B[38;5;129;01min\u001B[39;00m conf[\u001B[38;5;124m'\u001B[39m\u001B[38;5;124mDEFAULT\u001B[39m\u001B[38;5;124m'\u001B[39m]\u001B[38;5;241m.\u001B[39mitems():\n\u001B[0;32m     10\u001B[0m     \u001B[38;5;28mprint\u001B[39m(key, value)\n",
      "File \u001B[1;32mC:\\python39\\lib\\configparser.py:781\u001B[0m, in \u001B[0;36mRawConfigParser.get\u001B[1;34m(self, section, option, raw, vars, fallback)\u001B[0m\n\u001B[0;32m    766\u001B[0m \u001B[38;5;124;03m\"\"\"Get an option value for a given section.\u001B[39;00m\n\u001B[0;32m    767\u001B[0m \n\u001B[0;32m    768\u001B[0m \u001B[38;5;124;03mIf `vars' is provided, it must be a dictionary. The option is looked up\u001B[39;00m\n\u001B[1;32m   (...)\u001B[0m\n\u001B[0;32m    778\u001B[0m \u001B[38;5;124;03mThe section DEFAULT is special.\u001B[39;00m\n\u001B[0;32m    779\u001B[0m \u001B[38;5;124;03m\"\"\"\u001B[39;00m\n\u001B[0;32m    780\u001B[0m \u001B[38;5;28;01mtry\u001B[39;00m:\n\u001B[1;32m--> 781\u001B[0m     d \u001B[38;5;241m=\u001B[39m \u001B[38;5;28;43mself\u001B[39;49m\u001B[38;5;241;43m.\u001B[39;49m\u001B[43m_unify_values\u001B[49m\u001B[43m(\u001B[49m\u001B[43msection\u001B[49m\u001B[43m,\u001B[49m\u001B[43m \u001B[49m\u001B[38;5;28;43mvars\u001B[39;49m\u001B[43m)\u001B[49m\n\u001B[0;32m    782\u001B[0m \u001B[38;5;28;01mexcept\u001B[39;00m NoSectionError:\n\u001B[0;32m    783\u001B[0m     \u001B[38;5;28;01mif\u001B[39;00m fallback \u001B[38;5;129;01mis\u001B[39;00m _UNSET:\n",
      "File \u001B[1;32mC:\\python39\\lib\\configparser.py:1152\u001B[0m, in \u001B[0;36mRawConfigParser._unify_values\u001B[1;34m(self, section, vars)\u001B[0m\n\u001B[0;32m   1150\u001B[0m \u001B[38;5;28;01mexcept\u001B[39;00m \u001B[38;5;167;01mKeyError\u001B[39;00m:\n\u001B[0;32m   1151\u001B[0m     \u001B[38;5;28;01mif\u001B[39;00m section \u001B[38;5;241m!=\u001B[39m \u001B[38;5;28mself\u001B[39m\u001B[38;5;241m.\u001B[39mdefault_section:\n\u001B[1;32m-> 1152\u001B[0m         \u001B[38;5;28;01mraise\u001B[39;00m NoSectionError(section) \u001B[38;5;28;01mfrom\u001B[39;00m \u001B[38;5;28mNone\u001B[39m\n\u001B[0;32m   1153\u001B[0m \u001B[38;5;66;03m# Update with the entry specific variables\u001B[39;00m\n\u001B[0;32m   1154\u001B[0m vardict \u001B[38;5;241m=\u001B[39m {}\n",
      "\u001B[1;31mNoSectionError\u001B[0m: No section: 'test'"
     ]
    }
   ],
   "source": [
    "from configparser import ConfigParser\n",
    "conf = ConfigParser()\n",
    "conf.read('config.ini')\n",
    "print(conf['DEFAULT']['msg'])\n",
    "print(conf['DEFAULT'].getboolean('msg'))\n",
    "print(conf.sections())\n",
    "print(conf.get('test','msg1'))  # DEFAULT里的共用，可在别的节点直接查询\n",
    "\n",
    "for key, value in conf['DEFAULT'].items():\n",
    "    print(key, value)"
   ]
  },
  {
   "cell_type": "code",
   "execution_count": 44,
   "outputs": [
    {
     "ename": "NoSectionError",
     "evalue": "No section: 'test'",
     "output_type": "error",
     "traceback": [
      "\u001B[1;31m---------------------------------------------------------------------------\u001B[0m",
      "\u001B[1;31mNoSectionError\u001B[0m                            Traceback (most recent call last)",
      "Input \u001B[1;32mIn [44]\u001B[0m, in \u001B[0;36m<cell line: 3>\u001B[1;34m()\u001B[0m\n\u001B[0;32m      1\u001B[0m conf\u001B[38;5;241m.\u001B[39mset(\u001B[38;5;124m'\u001B[39m\u001B[38;5;124mDEFAULT\u001B[39m\u001B[38;5;124m'\u001B[39m,\u001B[38;5;124m'\u001B[39m\u001B[38;5;124mmsg\u001B[39m\u001B[38;5;124m'\u001B[39m,\u001B[38;5;124m'\u001B[39m\u001B[38;5;124m1\u001B[39m\u001B[38;5;124m'\u001B[39m)\n\u001B[0;32m      2\u001B[0m \u001B[38;5;66;03m# conf.add_section('test9')\u001B[39;00m\n\u001B[1;32m----> 3\u001B[0m \u001B[43mconf\u001B[49m\u001B[38;5;241;43m.\u001B[39;49m\u001B[43mset\u001B[49m\u001B[43m(\u001B[49m\u001B[38;5;124;43m'\u001B[39;49m\u001B[38;5;124;43mtest\u001B[39;49m\u001B[38;5;124;43m'\u001B[39;49m\u001B[43m,\u001B[49m\u001B[43m \u001B[49m\u001B[38;5;124;43m'\u001B[39;49m\u001B[38;5;124;43mmsg4\u001B[39;49m\u001B[38;5;124;43m'\u001B[39;49m\u001B[43m,\u001B[49m\u001B[43m \u001B[49m\u001B[38;5;124;43m'\u001B[39;49m\u001B[38;5;124;43m0\u001B[39;49m\u001B[38;5;124;43m'\u001B[39;49m\u001B[43m)\u001B[49m \u001B[38;5;66;03m# 可更改，可创建。不报错\u001B[39;00m\n\u001B[0;32m      4\u001B[0m conf\u001B[38;5;241m.\u001B[39mset(\u001B[38;5;124m'\u001B[39m\u001B[38;5;124mtest\u001B[39m\u001B[38;5;124m'\u001B[39m, \u001B[38;5;124m'\u001B[39m\u001B[38;5;124mmsg5\u001B[39m\u001B[38;5;124m'\u001B[39m, \u001B[38;5;124m'\u001B[39m\u001B[38;5;124m0\u001B[39m\u001B[38;5;124m'\u001B[39m)\n\u001B[0;32m      5\u001B[0m conf[\u001B[38;5;124m'\u001B[39m\u001B[38;5;124mtest2\u001B[39m\u001B[38;5;124m'\u001B[39m] \u001B[38;5;241m=\u001B[39m {\u001B[38;5;124m'\u001B[39m\u001B[38;5;124ma\u001B[39m\u001B[38;5;124m'\u001B[39m:\u001B[38;5;241m1\u001B[39m, \u001B[38;5;124m'\u001B[39m\u001B[38;5;124mb\u001B[39m\u001B[38;5;124m'\u001B[39m:\u001B[38;5;241m2\u001B[39m}\n",
      "File \u001B[1;32mC:\\python39\\lib\\configparser.py:1204\u001B[0m, in \u001B[0;36mConfigParser.set\u001B[1;34m(self, section, option, value)\u001B[0m\n\u001B[0;32m   1201\u001B[0m \u001B[38;5;124;03m\"\"\"Set an option.  Extends RawConfigParser.set by validating type and\u001B[39;00m\n\u001B[0;32m   1202\u001B[0m \u001B[38;5;124;03minterpolation syntax on the value.\"\"\"\u001B[39;00m\n\u001B[0;32m   1203\u001B[0m \u001B[38;5;28mself\u001B[39m\u001B[38;5;241m.\u001B[39m_validate_value_types(option\u001B[38;5;241m=\u001B[39moption, value\u001B[38;5;241m=\u001B[39mvalue)\n\u001B[1;32m-> 1204\u001B[0m \u001B[38;5;28;43msuper\u001B[39;49m\u001B[43m(\u001B[49m\u001B[43m)\u001B[49m\u001B[38;5;241;43m.\u001B[39;49m\u001B[43mset\u001B[49m\u001B[43m(\u001B[49m\u001B[43msection\u001B[49m\u001B[43m,\u001B[49m\u001B[43m \u001B[49m\u001B[43moption\u001B[49m\u001B[43m,\u001B[49m\u001B[43m \u001B[49m\u001B[43mvalue\u001B[49m\u001B[43m)\u001B[49m\n",
      "File \u001B[1;32mC:\\python39\\lib\\configparser.py:902\u001B[0m, in \u001B[0;36mRawConfigParser.set\u001B[1;34m(self, section, option, value)\u001B[0m\n\u001B[0;32m    900\u001B[0m         sectdict \u001B[38;5;241m=\u001B[39m \u001B[38;5;28mself\u001B[39m\u001B[38;5;241m.\u001B[39m_sections[section]\n\u001B[0;32m    901\u001B[0m     \u001B[38;5;28;01mexcept\u001B[39;00m \u001B[38;5;167;01mKeyError\u001B[39;00m:\n\u001B[1;32m--> 902\u001B[0m         \u001B[38;5;28;01mraise\u001B[39;00m NoSectionError(section) \u001B[38;5;28;01mfrom\u001B[39;00m \u001B[38;5;28mNone\u001B[39m\n\u001B[0;32m    903\u001B[0m sectdict[\u001B[38;5;28mself\u001B[39m\u001B[38;5;241m.\u001B[39moptionxform(option)] \u001B[38;5;241m=\u001B[39m value\n",
      "\u001B[1;31mNoSectionError\u001B[0m: No section: 'test'"
     ]
    }
   ],
   "source": [
    "conf.set('DEFAULT','msg','1')\n",
    "# conf.add_section('test9')\n",
    "conf.set('test', 'msg4', '0') # 可更改，可创建。不报错\n",
    "conf.set('test', 'msg5', '0')\n",
    "conf['test2'] = {'a':1, 'b':2}\n",
    "with open('config.ini', 'w', encoding='utf-8') as f:\n",
    "    conf.write(f)"
   ],
   "metadata": {
    "collapsed": false,
    "pycharm": {
     "name": "#%%\n"
    }
   }
  },
  {
   "cell_type": "code",
   "execution_count": 53,
   "outputs": [],
   "source": [
    "import time, threading\n",
    "# conf = conf\n",
    "\n",
    "def write_ini(file,section,key,value):\n",
    "    config = ConfigParser()\n",
    "    config[section][key]=value\n",
    "    with open(file, 'w',encoding='utf-8') as f:\n",
    "        config.write(f)\n",
    "    \n",
    "write_ini('config.ini','DEFAULT','is_stop','True')\n",
    "write_ini('config.ini','DEFAULT','msg','2')"
   ],
   "metadata": {
    "collapsed": false,
    "pycharm": {
     "name": "#%%\n"
    }
   }
  },
  {
   "cell_type": "code",
   "execution_count": 78,
   "outputs": [],
   "source": [
    "from configparser import ConfigParser\n",
    "\n",
    "class handle_ini():\n",
    "    def __init__(self, file_name):\n",
    "        self.file_name = file_name\n",
    "        self.conf = ConfigParser()\n",
    "        # conf.read(file_name)\n",
    "        \n",
    "    def get_valut(self, key):\n",
    "        conf.read(self.file_name)\n",
    "        conf.get(key)\n",
    "        \n",
    "    def write_ini(self,section,key,value):\n",
    "        conf.set(section,key,value)\n",
    "        with open(self.file_name,'w+',encoding='utf-8') as f:\n",
    "            conf.write(f)\n",
    "        \n",
    "        \n",
    "a = handle_ini('config1.ini')\n",
    "a.write_ini('DEFAULT','msg','0')\n",
    "a.write_ini('DEFAULT','hhh','1')\n",
    "a.write_ini('DEFAULT','is_stop','True')\n",
    "        \n"
   ],
   "metadata": {
    "collapsed": false,
    "pycharm": {
     "name": "#%%\n"
    }
   }
  }
 ],
 "metadata": {
  "kernelspec": {
   "display_name": "Python 3.9.8 64-bit",
   "language": "python",
   "name": "python3"
  },
  "language_info": {
   "codemirror_mode": {
    "name": "ipython",
    "version": 3
   },
   "file_extension": ".py",
   "mimetype": "text/x-python",
   "name": "python",
   "nbconvert_exporter": "python",
   "pygments_lexer": "ipython3",
   "version": "3.9.8"
  },
  "orig_nbformat": 4,
  "vscode": {
   "interpreter": {
    "hash": "996f2b6e98019c29df53ccff772a8e3fe7cdecb0ba4b3f6ddb9be804d297dd3d"
   }
  }
 },
 "nbformat": 4,
 "nbformat_minor": 2
}