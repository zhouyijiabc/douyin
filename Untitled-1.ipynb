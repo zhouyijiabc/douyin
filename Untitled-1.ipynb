{
 "cells": [
  {
   "cell_type": "code",
   "execution_count": 1,
   "metadata": {},
   "outputs": [],
   "source": [
    "import pyautogui as pya\n",
    "import pyperclip\n",
    "from time import sleep\n",
    "import random\n",
    "x, y = pya.size()\n"
   ]
  },
  {
   "cell_type": "code",
   "execution_count": 2,
   "metadata": {},
   "outputs": [
    {
     "data": {
      "text/plain": [
       "'小时候的味道'"
      ]
     },
     "execution_count": 2,
     "metadata": {},
     "output_type": "execute_result"
    }
   ],
   "source": [
    "def get_msg(msg_txt):\n",
    "    with open(msg_txt,'r',encoding='utf-8') as f:\n",
    "        msgs = f.readlines()\n",
    "        msg_list = [i.replace('\\n','') for i in msgs]\n",
    "        # print(msg_list)\n",
    "        return msg_list\n",
    "    \n",
    "msg_list = get_msg('./msg.txt')  \n"
   ]
  },
  {
   "cell_type": "code",
   "execution_count": 7,
   "metadata": {},
   "outputs": [
    {
     "name": "stdout",
     "output_type": "stream",
     "text": [
      "1104 875 非常好吃\n",
      "1092 318 臭干子 yyds\n",
      "1104 875 一包接一包停不下来\n",
      "1092 318 已拍，加急\n",
      "1104 875 日期新鲜吗？\n",
      "1092 318 好吃，香香辣辣的\n",
      "1104 875 从小吃到大\n",
      "1092 318 上学天天吃真的是太划算了\n",
      "1104 875 好吃，一天要吃好几包\n",
      "1092 318 已回购好多次了\n",
      "1104 875 什么时候发货\n",
      "1092 318 到手多少包？\n",
      "1104 875 已拍1号，加急\n",
      "1092 318 正在吃着飞旺臭干子刷剧\n",
      "1104 875 好久都没吃飞旺了\n",
      "1092 318 抢到了\n",
      "1104 875 加急\n",
      "1092 318 已拍 3号 加急\n",
      "1104 875 已拍1\n",
      "1092 318 已经到货啦，被我闺蜜抢了一半\n",
      "1104 875 已拍1号，快点发货\n",
      "1092 318 拍了\n",
      "1104 875 拍了1号\n",
      "1092 318 吃过这个\n",
      "1104 875 收到了，还多送了2包。谢谢\n",
      "1092 318 上小学就吃这个\n",
      "1104 875 快递收到了，日期好新鲜\n",
      "1092 318 一天要炫好几包\n",
      "1104 875 小时候的味道\n"
     ]
    }
   ],
   "source": [
    "def get_position(pic_path, confidence=1):\n",
    "    \"\"\"\n",
    "    pic_path: 图片路径\n",
    "    confidence: 模糊查找 0-1\n",
    "    返回 x, y 坐标列表\n",
    "    \"\"\"\n",
    "    aa = pya.locateAllOnScreen('./send.png',confidence)\n",
    "    xy_list = [pya.center(i) for i in aa]\n",
    "    return xy_list\n",
    "\n",
    "\n",
    "xy_index = 0\n",
    "for msg in msg_list:\n",
    "    sl1 = random.randint(1,3)\n",
    "    sl2 = random.randint(20,50)\n",
    "    pyperclip.copy(msg)\n",
    "    \n",
    "    x, y = xy_list[xy_index]\n",
    "    if xy_index < len(xy_list) - 1:\n",
    "        xy_index += 1\n",
    "    else:\n",
    "        xy_index = 0\n",
    "    x, y  = xy_list[xy_index]\n",
    "    pya.click(x-80, y, duration=1)\n",
    "    sleep(sl1)\n",
    "    pya.hotkey('ctrl','v')\n",
    "    sleep(sl1)\n",
    "    pya.click(x, y, duration=1)\n",
    "    print(x,y, msg)\n",
    "\n",
    "\n",
    "    \n"
   ]
  },
  {
   "cell_type": "code",
   "execution_count": 11,
   "metadata": {},
   "outputs": [],
   "source": [
    "\n",
    "xy_lsit = pya.locateAllOnScreen('./send.png',confidence=0.9)\n",
    "# [i for i in xy_lsit]\n",
    "for i in range(10):\n",
    "    pyperclip.copy('hah')\n",
    "    for i in xy_lsit:\n",
    "        xy = pya.center(i)\n",
    "        x,y =xy\n",
    "        pya.click(x-80, y,duration=1)\n",
    "        pya.hotkey('ctrl','v')\n",
    "        sleep(1)\n",
    "        pya.click(x,y,duration=1)\n",
    "\n"
   ]
  },
  {
   "cell_type": "code",
   "execution_count": null,
   "outputs": [],
   "source": [
    "hah"
   ],
   "metadata": {
    "collapsed": false,
    "pycharm": {
     "name": "#%%\n"
    }
   }
  },
  {
   "cell_type": "code",
   "execution_count": null,
   "outputs": [],
   "source": [
    "hah"
   ],
   "metadata": {
    "collapsed": false,
    "pycharm": {
     "name": "#%%\n"
    }
   }
  },
  {
   "cell_type": "code",
   "execution_count": 2,
   "metadata": {},
   "outputs": [
    {
     "name": "stdout",
     "output_type": "stream",
     "text": [
      "真的非常好吃\n",
      "飞旺yyds\n",
      "一包接一包停不下来\n",
      "已拍，加急\n",
      "日期新鲜吗？\n",
      "好吃，香香辣辣的\n",
      "从小吃到大\n",
      "上学天天吃真的是太划算了\n",
      "好吃，一天要吃好几包\n",
      "已回购，好多次了\n",
      "真的不要太划算呀。。。\n",
      "什么时候发货\n",
      "到手多少包？\n",
      "我爱飞旺\n",
      "已拍1号，加急\n",
      "正在吃着飞旺臭干子刷剧\n",
      "之前拍的都没有送。。。。。。\n",
      "好久都没吃飞旺了\n",
      "抢到了\n",
      "加急\n"
     ]
    }
   ],
   "source": [
    "l3 = ['真的非常好吃', '飞旺yyds', '一包接一包停不下来', '已拍，加急','日期新鲜吗？', '好吃，香香辣辣的', '从小吃到大','上学天天吃'\n",
    "       '真的是太划算了','好吃，一天要吃好几包', '已回购，好多次了', '真的不要太划算呀。。。', '什么时候发货',\n",
    "       '到手多少包？', '我爱飞旺', '已拍1号，加急', '正在吃着飞旺臭干子刷剧', '之前拍的都没有送。。。。。。',\n",
    "       '好久都没吃飞旺了', '抢到了', '加急'\n",
    "       ]\n",
    "for i in l3:\n",
    "    print(i)"
   ]
  }
 ],
 "metadata": {
  "kernelspec": {
   "display_name": "Python 3.9.8 64-bit",
   "language": "python",
   "name": "python3"
  },
  "language_info": {
   "codemirror_mode": {
    "name": "ipython",
    "version": 3
   },
   "file_extension": ".py",
   "mimetype": "text/x-python",
   "name": "python",
   "nbconvert_exporter": "python",
   "pygments_lexer": "ipython3",
   "version": "3.9.8"
  },
  "orig_nbformat": 4,
  "vscode": {
   "interpreter": {
    "hash": "996f2b6e98019c29df53ccff772a8e3fe7cdecb0ba4b3f6ddb9be804d297dd3d"
   }
  }
 },
 "nbformat": 4,
 "nbformat_minor": 2
}